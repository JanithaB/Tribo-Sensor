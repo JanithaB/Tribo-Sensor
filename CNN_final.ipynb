{
  "nbformat": 4,
  "nbformat_minor": 0,
  "metadata": {
    "colab": {
      "provenance": [],
      "authorship_tag": "ABX9TyO9YMzwinZqPHCFrbSmJoI0",
      "include_colab_link": true
    },
    "kernelspec": {
      "name": "python3",
      "display_name": "Python 3"
    },
    "language_info": {
      "name": "python"
    }
  },
  "cells": [
    {
      "cell_type": "markdown",
      "metadata": {
        "id": "view-in-github",
        "colab_type": "text"
      },
      "source": [
        "<a href=\"https://colab.research.google.com/github/JanithaB/Tribo-Sensor/blob/main/CNN_final.ipynb\" target=\"_parent\"><img src=\"https://colab.research.google.com/assets/colab-badge.svg\" alt=\"Open In Colab\"/></a>"
      ]
    },
    {
      "cell_type": "code",
      "source": [
        "import numpy as np\n",
        "import tensorflow as tf\n",
        "from tensorflow.keras.models import Sequential\n",
        "from tensorflow.keras.layers import Conv1D, MaxPooling1D, Flatten, Dense, Dropout\n",
        "from sklearn.model_selection import train_test_split\n",
        "from sklearn.preprocessing import LabelEncoder\n",
        "from tensorflow.keras.utils import to_categorical\n",
        "import ast"
      ],
      "metadata": {
        "id": "t_lXwSSG6Do2"
      },
      "execution_count": 3,
      "outputs": []
    },
    {
      "cell_type": "code",
      "source": [
        "from google.colab import drive\n",
        "import ast\n",
        "# Mount Google Drive\n",
        "drive.mount('/content/drive')"
      ],
      "metadata": {
        "colab": {
          "base_uri": "https://localhost:8080/"
        },
        "id": "I9ereNuF5yYw",
        "outputId": "a18cabb8-baf1-436c-936b-f905dc1b077f"
      },
      "execution_count": 4,
      "outputs": [
        {
          "output_type": "stream",
          "name": "stdout",
          "text": [
            "Drive already mounted at /content/drive; to attempt to forcibly remount, call drive.mount(\"/content/drive\", force_remount=True).\n"
          ]
        }
      ]
    },
    {
      "cell_type": "code",
      "execution_count": 5,
      "metadata": {
        "colab": {
          "base_uri": "https://localhost:8080/"
        },
        "id": "RNVmpCcc5jrW",
        "outputId": "34bcaac0-1ce8-4a4f-809b-16c7bd30b3c1"
      },
      "outputs": [
        {
          "output_type": "stream",
          "name": "stdout",
          "text": [
            "(126,)\n",
            "[1 1 1 1 1 1 1 1 1 1 1 1 1 1 1 1 1 1 1 1 1 1 1 1 1 1 1 1 1 1 1 1 1 1 1 1 1\n",
            " 1 1 1 1 1 1 1 1 1 1 1 1 1 1 1 1 1 1 1 1 1 1 1 1 1 1 2 2 2 2 2 2 2 2 2 2 2\n",
            " 2 2 2 2 2 2 2 2 2 2 2 2 2 2 2 2 2 2 2 2 2 2 2 2 2 2 2 2 2 2 2 2 2 2 2 2 2\n",
            " 2 2 2 2 2 2 2 2 2 2 2 2 2 2 2]\n"
          ]
        }
      ],
      "source": [
        "num_channels = 6\n",
        "\n",
        "# Initialize an empty list to store data for each channel\n",
        "channel_data = []\n",
        "\n",
        "# Define the full file paths for your data files\n",
        "y_train_files = [\n",
        "    '/content/drive/My Drive/tribo/y_train_1.txt',\n",
        "    '/content/drive/My Drive/tribo/y_train_2.txt',\n",
        "    '/content/drive/My Drive/tribo/y_train_3.txt',\n",
        "    '/content/drive/My Drive/tribo/y_train_4.txt',\n",
        "    '/content/drive/My Drive/tribo/y_train_5.txt',\n",
        "    '/content/drive/My Drive/tribo/y_train_6.txt'\n",
        "]\n",
        "\n",
        "# Load data from each text file and append it to channel_data\n",
        "for filename in y_train_files:\n",
        "    with open(filename, 'r') as file:\n",
        "        lines = file.readlines()\n",
        "        channel_values = [list(map(float, line.strip().split())) for line in lines]\n",
        "        channel_data.append(channel_values)\n",
        "\n",
        "# Convert channel_data to a NumPy array with shape (data_size, sequence_length, num_channels)\n",
        "#X = np.array(channel_data)\n",
        "#X= np.array(channel_data)\n",
        "X = np.array(channel_data).transpose(1, 2, 0)\n",
        "\n",
        "\n",
        "y_train = '/content/drive/My Drive/tribo/label_data.txt'\n",
        "with open(y_train, 'r') as file:\n",
        "    lines = file.readlines()\n",
        "    y_train = [int(value) for line in lines for value in line.strip().split()]\n",
        "\n",
        "y= np.array(y_train)\n",
        "#print(X)\n",
        "#print(X)\n",
        "print(np.shape(y))\n",
        "print(y)"
      ]
    },
    {
      "cell_type": "code",
      "source": [
        "import numpy as np\n",
        "import tensorflow as tf\n",
        "from tensorflow.keras.models import Sequential\n",
        "from tensorflow.keras.layers import Conv1D, MaxPooling1D, Flatten, Dense, Dropout\n",
        "from sklearn.model_selection import train_test_split\n",
        "from sklearn.preprocessing import LabelEncoder\n",
        "from tensorflow.keras.utils import to_categorical\n",
        "\n",
        "# Generate synthetic data for two classes\n",
        "data_size = 126\n",
        "sequence_length = 200\n",
        "num_channels = 6  # Number of input channels\n",
        "num_classes = 2\n",
        "\n",
        "# Create synthetic data with random values between 0 and 1 for 6 channels\n",
        "#X = np.random.rand(data_size, sequence_length, num_channels)\n",
        "#print(X)\n",
        "#print(np.shape(X))\n",
        "# Generate random labels for binary classification (0 or 1)\n",
        "#y = np.random.randint(0, num_classes, size=data_size)\n",
        "print(y)\n",
        "print(np.shape(y))\n",
        "# One-hot encode the target labels\n",
        "#y = to_categorical(y, num_classes)\n",
        "y = to_categorical(y - 1, num_classes)  # Subtract 1 to make class labels 0 and 1\n",
        "\n",
        "#print(y)\n",
        "#print(np.shape(y))\n",
        "# Split the data into training and testing sets\n",
        "X_train, X_test, y_train, y_test = train_test_split(X, y, test_size=0.2, random_state=42)\n",
        "#X_train,y_train = train_test_split(X, y)\n",
        "#X_train=X\n",
        "#y_train=Y\n",
        "#X_train, X_test, y_train, y_test = train_test_split(X, Y,X_test ,y_test )\n",
        "# Create a Sequential model\n",
        "model = Sequential()\n",
        "\n",
        "# Adjust the input shape to accept 6 channels\n",
        "model.add(Conv1D(32, kernel_size=3, activation='relu', input_shape=(sequence_length, num_channels)))\n",
        "\n",
        "# Add a Max Pooling Layer with pool size 2\n",
        "model.add(MaxPooling1D(pool_size=2))\n",
        "\n",
        "# Add another Conv1D layer with 64 filters and 'relu' activation\n",
        "model.add(Conv1D(64, kernel_size=3, activation='relu'))\n",
        "\n",
        "# Add another Max Pooling Layer with pool size 2\n",
        "model.add(MaxPooling1D(pool_size=2))\n",
        "\n",
        "# Flatten the output from the previous layer\n",
        "model.add(Flatten())\n",
        "\n",
        "# Add a fully connected layer with 128 neurons and 'relu' activation\n",
        "model.add(Dense(128, activation='relu'))\n",
        "\n",
        "# Add a Dropout layer to prevent overfitting\n",
        "model.add(Dropout(0.5))\n",
        "\n",
        "# Add the output layer with 2 units (binary classification) and 'softmax' activation\n",
        "model.add(Dense(2, activation='softmax'))\n",
        "\n",
        "# Compile the model with binary cross-entropy loss, optimizer, and accuracy metric\n",
        "model.compile(loss='binary_crossentropy', optimizer='adam', metrics=['accuracy'])\n",
        "\n",
        "# Train the model on the training data\n",
        "model.fit(X_train, y_train, epochs=50, batch_size=32, validation_data=(X_test, y_test))\n",
        "\n",
        "# Evaluate the model on the test data\n",
        "loss, accuracy = model.evaluate(X_test, y_test)\n",
        "print(f'Test Loss: {loss:.4f}, Test Accuracy: {accuracy:.4f}')"
      ],
      "metadata": {
        "colab": {
          "base_uri": "https://localhost:8080/"
        },
        "id": "kg7M5Pg45pnZ",
        "outputId": "85b235bf-6e8e-4d57-ab25-5f2d9239afd2"
      },
      "execution_count": 6,
      "outputs": [
        {
          "output_type": "stream",
          "name": "stdout",
          "text": [
            "[1 1 1 1 1 1 1 1 1 1 1 1 1 1 1 1 1 1 1 1 1 1 1 1 1 1 1 1 1 1 1 1 1 1 1 1 1\n",
            " 1 1 1 1 1 1 1 1 1 1 1 1 1 1 1 1 1 1 1 1 1 1 1 1 1 1 2 2 2 2 2 2 2 2 2 2 2\n",
            " 2 2 2 2 2 2 2 2 2 2 2 2 2 2 2 2 2 2 2 2 2 2 2 2 2 2 2 2 2 2 2 2 2 2 2 2 2\n",
            " 2 2 2 2 2 2 2 2 2 2 2 2 2 2 2]\n",
            "(126,)\n",
            "Epoch 1/50\n",
            "4/4 [==============================] - 2s 107ms/step - loss: 11.8684 - accuracy: 0.5400 - val_loss: 3.5303 - val_accuracy: 0.7308\n",
            "Epoch 2/50\n",
            "4/4 [==============================] - 0s 25ms/step - loss: 6.6069 - accuracy: 0.6100 - val_loss: 1.4533 - val_accuracy: 0.6923\n",
            "Epoch 3/50\n",
            "4/4 [==============================] - 0s 24ms/step - loss: 3.5783 - accuracy: 0.7200 - val_loss: 1.6763 - val_accuracy: 0.8077\n",
            "Epoch 4/50\n",
            "4/4 [==============================] - 0s 34ms/step - loss: 2.1804 - accuracy: 0.7800 - val_loss: 1.2763 - val_accuracy: 0.7692\n",
            "Epoch 5/50\n",
            "4/4 [==============================] - 0s 28ms/step - loss: 1.6048 - accuracy: 0.8200 - val_loss: 1.2912 - val_accuracy: 0.7692\n",
            "Epoch 6/50\n",
            "4/4 [==============================] - 0s 23ms/step - loss: 1.3204 - accuracy: 0.7500 - val_loss: 1.0648 - val_accuracy: 0.7692\n",
            "Epoch 7/50\n",
            "4/4 [==============================] - 0s 23ms/step - loss: 0.9405 - accuracy: 0.8000 - val_loss: 0.9078 - val_accuracy: 0.8077\n",
            "Epoch 8/50\n",
            "4/4 [==============================] - 0s 23ms/step - loss: 0.4910 - accuracy: 0.8800 - val_loss: 0.7456 - val_accuracy: 0.8462\n",
            "Epoch 9/50\n",
            "4/4 [==============================] - 0s 30ms/step - loss: 0.3424 - accuracy: 0.9000 - val_loss: 0.6940 - val_accuracy: 0.8846\n",
            "Epoch 10/50\n",
            "4/4 [==============================] - 0s 23ms/step - loss: 0.4485 - accuracy: 0.8600 - val_loss: 0.6920 - val_accuracy: 0.8846\n",
            "Epoch 11/50\n",
            "4/4 [==============================] - 0s 25ms/step - loss: 0.3123 - accuracy: 0.9100 - val_loss: 0.6512 - val_accuracy: 0.8846\n",
            "Epoch 12/50\n",
            "4/4 [==============================] - 0s 23ms/step - loss: 0.1713 - accuracy: 0.9500 - val_loss: 0.5609 - val_accuracy: 0.8846\n",
            "Epoch 13/50\n",
            "4/4 [==============================] - 0s 31ms/step - loss: 0.1776 - accuracy: 0.9400 - val_loss: 0.5555 - val_accuracy: 0.8462\n",
            "Epoch 14/50\n",
            "4/4 [==============================] - 0s 24ms/step - loss: 0.1470 - accuracy: 0.9600 - val_loss: 0.5666 - val_accuracy: 0.8462\n",
            "Epoch 15/50\n",
            "4/4 [==============================] - 0s 23ms/step - loss: 0.1695 - accuracy: 0.9500 - val_loss: 0.5794 - val_accuracy: 0.8846\n",
            "Epoch 16/50\n",
            "4/4 [==============================] - 0s 24ms/step - loss: 0.1682 - accuracy: 0.9400 - val_loss: 0.6152 - val_accuracy: 0.8846\n",
            "Epoch 17/50\n",
            "4/4 [==============================] - 0s 25ms/step - loss: 0.1135 - accuracy: 0.9500 - val_loss: 0.6296 - val_accuracy: 0.8462\n",
            "Epoch 18/50\n",
            "4/4 [==============================] - 0s 23ms/step - loss: 0.1214 - accuracy: 0.9700 - val_loss: 0.6501 - val_accuracy: 0.8077\n",
            "Epoch 19/50\n",
            "4/4 [==============================] - 0s 23ms/step - loss: 0.1227 - accuracy: 0.9700 - val_loss: 0.6421 - val_accuracy: 0.8846\n",
            "Epoch 20/50\n",
            "4/4 [==============================] - 0s 29ms/step - loss: 0.1687 - accuracy: 0.9400 - val_loss: 0.6550 - val_accuracy: 0.8846\n",
            "Epoch 21/50\n",
            "4/4 [==============================] - 0s 23ms/step - loss: 0.1507 - accuracy: 0.9500 - val_loss: 0.6673 - val_accuracy: 0.8846\n",
            "Epoch 22/50\n",
            "4/4 [==============================] - 0s 25ms/step - loss: 0.1349 - accuracy: 0.9800 - val_loss: 0.6410 - val_accuracy: 0.8846\n",
            "Epoch 23/50\n",
            "4/4 [==============================] - 0s 27ms/step - loss: 0.1037 - accuracy: 0.9700 - val_loss: 0.6118 - val_accuracy: 0.8846\n",
            "Epoch 24/50\n",
            "4/4 [==============================] - 0s 24ms/step - loss: 0.0819 - accuracy: 0.9700 - val_loss: 0.6102 - val_accuracy: 0.8846\n",
            "Epoch 25/50\n",
            "4/4 [==============================] - 0s 28ms/step - loss: 0.1198 - accuracy: 0.9500 - val_loss: 0.5740 - val_accuracy: 0.8846\n",
            "Epoch 26/50\n",
            "4/4 [==============================] - 0s 28ms/step - loss: 0.0676 - accuracy: 0.9900 - val_loss: 0.4817 - val_accuracy: 0.8846\n",
            "Epoch 27/50\n",
            "4/4 [==============================] - 0s 26ms/step - loss: 0.0655 - accuracy: 0.9900 - val_loss: 0.4523 - val_accuracy: 0.8846\n",
            "Epoch 28/50\n",
            "4/4 [==============================] - 0s 24ms/step - loss: 0.0681 - accuracy: 0.9900 - val_loss: 0.4628 - val_accuracy: 0.8846\n",
            "Epoch 29/50\n",
            "4/4 [==============================] - 0s 23ms/step - loss: 0.0576 - accuracy: 0.9900 - val_loss: 0.4891 - val_accuracy: 0.8462\n",
            "Epoch 30/50\n",
            "4/4 [==============================] - 0s 29ms/step - loss: 0.0677 - accuracy: 0.9800 - val_loss: 0.5238 - val_accuracy: 0.8462\n",
            "Epoch 31/50\n",
            "4/4 [==============================] - 0s 24ms/step - loss: 0.0812 - accuracy: 0.9600 - val_loss: 0.5963 - val_accuracy: 0.8462\n",
            "Epoch 32/50\n",
            "4/4 [==============================] - 0s 30ms/step - loss: 0.0764 - accuracy: 0.9800 - val_loss: 0.5911 - val_accuracy: 0.8462\n",
            "Epoch 33/50\n",
            "4/4 [==============================] - 0s 30ms/step - loss: 0.0373 - accuracy: 0.9900 - val_loss: 0.5485 - val_accuracy: 0.8462\n",
            "Epoch 34/50\n",
            "4/4 [==============================] - 0s 23ms/step - loss: 0.0988 - accuracy: 0.9800 - val_loss: 0.5283 - val_accuracy: 0.8846\n",
            "Epoch 35/50\n",
            "4/4 [==============================] - 0s 23ms/step - loss: 0.0691 - accuracy: 0.9800 - val_loss: 0.5510 - val_accuracy: 0.8462\n",
            "Epoch 36/50\n",
            "4/4 [==============================] - 0s 22ms/step - loss: 0.0328 - accuracy: 1.0000 - val_loss: 0.5635 - val_accuracy: 0.8462\n",
            "Epoch 37/50\n",
            "4/4 [==============================] - 0s 26ms/step - loss: 0.0297 - accuracy: 1.0000 - val_loss: 0.5771 - val_accuracy: 0.8462\n",
            "Epoch 38/50\n",
            "4/4 [==============================] - 0s 29ms/step - loss: 0.0643 - accuracy: 0.9800 - val_loss: 0.5683 - val_accuracy: 0.8846\n",
            "Epoch 39/50\n",
            "4/4 [==============================] - 0s 27ms/step - loss: 0.0417 - accuracy: 0.9700 - val_loss: 0.5656 - val_accuracy: 0.8462\n",
            "Epoch 40/50\n",
            "4/4 [==============================] - 0s 29ms/step - loss: 0.0150 - accuracy: 1.0000 - val_loss: 0.5861 - val_accuracy: 0.8462\n",
            "Epoch 41/50\n",
            "4/4 [==============================] - 0s 30ms/step - loss: 0.0209 - accuracy: 1.0000 - val_loss: 0.5871 - val_accuracy: 0.8462\n",
            "Epoch 42/50\n",
            "4/4 [==============================] - 0s 23ms/step - loss: 0.0482 - accuracy: 0.9800 - val_loss: 0.5726 - val_accuracy: 0.8462\n",
            "Epoch 43/50\n",
            "4/4 [==============================] - 0s 28ms/step - loss: 0.0384 - accuracy: 0.9900 - val_loss: 0.5582 - val_accuracy: 0.7692\n",
            "Epoch 44/50\n",
            "4/4 [==============================] - 0s 23ms/step - loss: 0.0331 - accuracy: 1.0000 - val_loss: 0.5805 - val_accuracy: 0.8462\n",
            "Epoch 45/50\n",
            "4/4 [==============================] - 0s 25ms/step - loss: 0.0294 - accuracy: 1.0000 - val_loss: 0.5897 - val_accuracy: 0.8462\n",
            "Epoch 46/50\n",
            "4/4 [==============================] - 0s 28ms/step - loss: 0.0343 - accuracy: 0.9900 - val_loss: 0.5437 - val_accuracy: 0.8846\n",
            "Epoch 47/50\n",
            "4/4 [==============================] - 0s 27ms/step - loss: 0.0310 - accuracy: 1.0000 - val_loss: 0.5562 - val_accuracy: 0.8846\n",
            "Epoch 48/50\n",
            "4/4 [==============================] - 0s 25ms/step - loss: 0.0120 - accuracy: 1.0000 - val_loss: 0.5873 - val_accuracy: 0.8846\n",
            "Epoch 49/50\n",
            "4/4 [==============================] - 0s 28ms/step - loss: 0.0395 - accuracy: 0.9900 - val_loss: 0.5739 - val_accuracy: 0.9231\n",
            "Epoch 50/50\n",
            "4/4 [==============================] - 0s 30ms/step - loss: 0.0196 - accuracy: 0.9900 - val_loss: 0.5527 - val_accuracy: 0.8846\n",
            "1/1 [==============================] - 0s 32ms/step - loss: 0.5527 - accuracy: 0.8846\n",
            "Test Loss: 0.5527, Test Accuracy: 0.8846\n"
          ]
        }
      ]
    }
  ]
}