{
  "nbformat": 4,
  "nbformat_minor": 0,
  "metadata": {
    "colab": {
      "provenance": [],
      "authorship_tag": "ABX9TyOswTD7u75K5H7OWFikK2Zt",
      "include_colab_link": true
    },
    "kernelspec": {
      "name": "python3",
      "display_name": "Python 3"
    },
    "language_info": {
      "name": "python"
    }
  },
  "cells": [
    {
      "cell_type": "markdown",
      "metadata": {
        "id": "view-in-github",
        "colab_type": "text"
      },
      "source": [
        "<a href=\"https://colab.research.google.com/github/JanithaB/Tribo-Sensor/blob/main/First_encounter_test02.ipynb\" target=\"_parent\"><img src=\"https://colab.research.google.com/assets/colab-badge.svg\" alt=\"Open In Colab\"/></a>"
      ]
    },
    {
      "cell_type": "code",
      "source": [
        "from google.colab import drive\n",
        "\n",
        "# Mount Google Drive\n",
        "drive.mount('/content/drive')"
      ],
      "metadata": {
        "colab": {
          "base_uri": "https://localhost:8080/"
        },
        "id": "t-g6NVoKTALa",
        "outputId": "58392427-57f4-4109-fcf6-cb85128d1601"
      },
      "execution_count": 1,
      "outputs": [
        {
          "output_type": "stream",
          "name": "stdout",
          "text": [
            "Mounted at /content/drive\n"
          ]
        }
      ]
    },
    {
      "cell_type": "code",
      "execution_count": 59,
      "metadata": {
        "id": "mt_5I-SGQIT_"
      },
      "outputs": [],
      "source": [
        "import tensorflow as tf\n",
        "import numpy as np\n",
        "import matplotlib.pyplot as plt\n",
        "import ast\n",
        "import copy"
      ]
    },
    {
      "cell_type": "code",
      "source": [
        "#Read data from the gdrive\n",
        "# Path to your text file\n",
        "file_01 = '/content/drive/My Drive/First_encounter/x_train.txt'\n",
        "file_02 = '/content/drive/My Drive/First_encounter/not_y_train.txt'\n",
        "file_03 = '/content/drive/My Drive/First_encounter/x_test.txt'\n",
        "file_04 = '/content/drive/My Drive/First_encounter/not_y_test.txt'\n",
        "\n",
        "# Read the text file\n",
        "with open(file_01, 'r') as file:\n",
        "    x_train = file.read()\n",
        "with open(file_02, 'r') as file:\n",
        "    y_train = file.read()\n",
        "with open(file_03, 'r') as file:\n",
        "    x_test = file.read()\n",
        "with open(file_04, 'r') as file:\n",
        "    y_test = file.read()\n",
        "\n",
        "x_train = ast.literal_eval(x_train)\n",
        "x_train = np.array(x_train, dtype=np.float32).T\n",
        "\n",
        "y_train = ast.literal_eval(y_train)\n",
        "y_train = np.array(y_train, dtype=np.float32)\n",
        "y_train = y_train.reshape(1,19)\n",
        "\n",
        "x_test = ast.literal_eval(x_test)\n",
        "x_test = np.array(x_test, dtype=np.float32).T\n",
        "\n",
        "y_test = ast.literal_eval(y_test)\n",
        "y_test = np.array(y_test, dtype=np.float32)\n",
        "y_test = y_test.reshape(1,6)\n",
        "\n",
        "#print(x_train.shape)\n",
        "#print(y_train.shape)\n",
        "print(x_test)\n",
        "#print(y_test.shape)"
      ],
      "metadata": {
        "colab": {
          "base_uri": "https://localhost:8080/"
        },
        "id": "SmDkScjVVSnB",
        "outputId": "76e447ed-8ae2-467f-c6ae-53ab0c917781"
      },
      "execution_count": 53,
      "outputs": [
        {
          "output_type": "stream",
          "name": "stdout",
          "text": [
            "[[ 678.  678. 1023.  677.  678.  680.]\n",
            " [ 677.  677. 1023.  677.  677.  679.]\n",
            " [ 677.  677. 1023.  677.  676.  678.]\n",
            " ...\n",
            " [ 600.  600.  600.  600.  600.  600.]\n",
            " [ 600.  600.  600.  600.  600.  600.]\n",
            " [ 600.  600.  600.  600.  600.  600.]]\n"
          ]
        }
      ]
    },
    {
      "cell_type": "code",
      "source": [
        "#Loading the dataset (walking/running)\n",
        "train_set_x_orig = x_train.T\n",
        "train_set_y      = y_train\n",
        "test_set_x_orig  = x_test.T\n",
        "test_set_y       = y_test"
      ],
      "metadata": {
        "id": "N4Br0kMkRcY5"
      },
      "execution_count": 73,
      "outputs": []
    },
    {
      "cell_type": "code",
      "source": [
        "x_val = list(range(1,901))\n",
        "\n",
        "#test index\n",
        "index = 18\n",
        "\n",
        "plt.plot(x_val,train_set_x_orig[index])\n",
        "plt.xlabel(\"Number of Values\")\n",
        "plt.ylabel(\"Y Value\")\n",
        "plt.title(\"Y Value vs Number of Values\")\n",
        "plt.grid(True)\n",
        "plt.show()"
      ],
      "metadata": {
        "id": "rUX1Lz0kVkJX"
      },
      "execution_count": null,
      "outputs": []
    },
    {
      "cell_type": "code",
      "source": [
        "#Normalizing data\n",
        "import scipy.stats as stats\n",
        "\n",
        "x_train_norm = stats.zscore(x_train, axis=0)\n",
        "x_test_norm = stats.zscore(x_test, axis=0)\n",
        "print(x_test_norm.shape)"
      ],
      "metadata": {
        "id": "dwXAABvLAaY2",
        "colab": {
          "base_uri": "https://localhost:8080/"
        },
        "outputId": "1e12fccf-08a8-4a31-d69a-f7b4dddefa30"
      },
      "execution_count": 55,
      "outputs": [
        {
          "output_type": "stream",
          "name": "stdout",
          "text": [
            "(900, 6)\n"
          ]
        }
      ]
    },
    {
      "cell_type": "code",
      "source": [
        "#Sigmoid\n",
        "\n",
        "def sigmoid(z):\n",
        "    \"\"\"\n",
        "    Compute the sigmoid of z\n",
        "\n",
        "    Arguments:\n",
        "    z -- A scalar or numpy array of any size.\n",
        "\n",
        "    Return:\n",
        "    s -- sigmoid(z)\n",
        "    \"\"\"\n",
        "\n",
        "    s = 1 / (1+np.exp(-z))\n",
        "\n",
        "\n",
        "    return s"
      ],
      "metadata": {
        "id": "dG7JT5AUlFqO"
      },
      "execution_count": 56,
      "outputs": []
    },
    {
      "cell_type": "code",
      "source": [
        "#Initialize with zeros\n",
        "def initialize_with_zeros(dim):\n",
        "    \"\"\"\n",
        "    This function creates a vector of zeros of shape (dim, 1) for w and initializes b to 0.\n",
        "\n",
        "    Argument:\n",
        "    dim -- size of the w vector we want (or number of parameters in this case)\n",
        "\n",
        "    Returns:\n",
        "    w -- initialized vector of shape (dim, 1)\n",
        "    b -- initialized scalar (corresponds to the bias) of type float\n",
        "    \"\"\"\n",
        "\n",
        "    w = np.zeros(shape=(dim, 1))\n",
        "    b = 0.0\n",
        "\n",
        "\n",
        "    return w, b"
      ],
      "metadata": {
        "id": "Re0ffu_InPlP"
      },
      "execution_count": 57,
      "outputs": []
    },
    {
      "cell_type": "code",
      "source": [
        "def propagate(w, b, X, Y):\n",
        "    \"\"\"\n",
        "    Implement the cost function and its gradient for the propagation explained above\n",
        "\n",
        "    Arguments:\n",
        "    w -- weights, a numpy array of size (900, 1)\n",
        "    b -- bias, a scalar\n",
        "    X -- data of size (900, number of examples)\n",
        "    Y -- true \"label\" vector (containing 0 if walking, 1 if running) of size (1, number of examples)\n",
        "\n",
        "    Return:\n",
        "    grads -- dictionary containing the gradients of the weights and bias\n",
        "            (dw -- gradient of the loss with respect to w, thus same shape as w)\n",
        "            (db -- gradient of the loss with respect to b, thus same shape as b)\n",
        "    cost -- negative log-likelihood cost for logistic regression\n",
        "\n",
        "    Tips:\n",
        "    - Write your code step by step for the propagation. np.log(), np.dot()\n",
        "    \"\"\"\n",
        "\n",
        "    m = X.shape[1]\n",
        "\n",
        "    # FORWARD PROPAGATION (FROM X TO COST)\n",
        "    #(≈ 2 lines of code)\n",
        "    # compute activation\n",
        "    # A = ...\n",
        "    # compute cost by using np.dot to perform multiplication.\n",
        "    # And don't use loops for the sum.\n",
        "    # cost = ...                𝐴=𝜎(𝑤𝑇𝑋+𝑏)     𝐽=−1𝑚∑𝑚𝑖=1(𝑦(𝑖)log(𝑎(𝑖))+(1−𝑦(𝑖))log(1−𝑎(𝑖)))\n",
        "    # YOUR CODE STARTS HERE\n",
        "    A = sigmoid(np.dot(w.T, X) + b)\n",
        "    cost = (-1/m)* np.sum(Y * np.log(A) + (1-Y) * (np.log(1-A)))\n",
        "\n",
        "    # YOUR CODE ENDS HERE\n",
        "\n",
        "    # BACKWARD PROPAGATION (TO FIND GRAD)\n",
        "    #(≈ 2 lines of code)\n",
        "    # dw = ...\n",
        "    # db = ...\n",
        "    # YOUR CODE STARTS HERE\n",
        "    dw = (1/m) * (np.dot(X,(A-Y).T))\n",
        "    db = (1/m) * (np.sum(A-Y))\n",
        "    # YOUR CODE ENDS HERE\n",
        "    cost = np.squeeze(np.array(cost))\n",
        "\n",
        "\n",
        "    grads = {\"dw\": dw,\n",
        "             \"db\": db}\n",
        "\n",
        "    return grads, cost"
      ],
      "metadata": {
        "id": "e7Q4jhmQnX_F"
      },
      "execution_count": 58,
      "outputs": []
    },
    {
      "cell_type": "code",
      "source": [
        "\n",
        "def optimize(w, b, X, Y, num_iterations=100, learning_rate=0.009, print_cost=False):\n",
        "    \"\"\"\n",
        "    This function optimizes w and b by running a gradient descent algorithm\n",
        "\n",
        "    Arguments:\n",
        "    w -- weights, a numpy array of size (900, 1)\n",
        "    b -- bias, a scalar\n",
        "    X -- data of shape (900, number of examples)\n",
        "    Y -- true \"label\" vector (containing 0 if walking, 1 if running), of shape (1, number of examples)\n",
        "    num_iterations -- number of iterations of the optimization loop\n",
        "    learning_rate -- learning rate of the gradient descent update rule\n",
        "    print_cost -- True to print the loss every 100 steps\n",
        "\n",
        "    Returns:\n",
        "    params -- dictionary containing the weights w and bias b\n",
        "    grads -- dictionary containing the gradients of the weights and bias with respect to the cost function\n",
        "    costs -- list of all the costs computed during the optimization, this will be used to plot the learning curve.\n",
        "\n",
        "    Tips:\n",
        "    You basically need to write down two steps and iterate through them:\n",
        "        1) Calculate the cost and the gradient for the current parameters. Use propagate().\n",
        "        2) Update the parameters using gradient descent rule for w and b.\n",
        "    \"\"\"\n",
        "\n",
        "    w = copy.deepcopy(w)\n",
        "    b = copy.deepcopy(b)\n",
        "\n",
        "    costs = []\n",
        "\n",
        "    for i in range(num_iterations):\n",
        "        # (≈ 1 lines of code)\n",
        "        # Cost and gradient calculation\n",
        "        # grads, cost = ...\n",
        "        # YOUR CODE STARTS HERE\n",
        "        grads, cost = propagate(w, b, X, Y)\n",
        "\n",
        "        # YOUR CODE ENDS HERE\n",
        "\n",
        "        # Retrieve derivatives from grads\n",
        "        dw = grads[\"dw\"]\n",
        "        db = grads[\"db\"]\n",
        "\n",
        "        # update rule (≈ 2 lines of code)\n",
        "        # w = ...\n",
        "        # b = ...\n",
        "        # YOUR CODE STARTS HERE\n",
        "        w = w - (learning_rate*dw)\n",
        "        b = b - (learning_rate*db)\n",
        "\n",
        "        # YOUR CODE ENDS HERE\n",
        "\n",
        "        # Record the costs\n",
        "        if i % 100 == 0:\n",
        "            costs.append(cost)\n",
        "\n",
        "            # Print the cost every 100 training iterations\n",
        "            if print_cost:\n",
        "                print (\"Cost after iteration %i: %f\" %(i, cost))\n",
        "\n",
        "    params = {\"w\": w,\n",
        "              \"b\": b}\n",
        "\n",
        "    grads = {\"dw\": dw,\n",
        "             \"db\": db}\n",
        "\n",
        "    return params, grads, costs"
      ],
      "metadata": {
        "id": "ryhfKjHpnbwj"
      },
      "execution_count": 60,
      "outputs": []
    },
    {
      "cell_type": "code",
      "source": [
        "def predict(w, b, X):\n",
        "    '''\n",
        "    Predict whether the label is 0 or 1 using learned logistic regression parameters (w, b)\n",
        "\n",
        "    Arguments:\n",
        "    w -- weights, a numpy array of size (900, 1)\n",
        "    b -- bias, a scalar\n",
        "    X -- data of size (900, number of examples)\n",
        "\n",
        "    Returns:\n",
        "    Y_prediction -- a numpy array (vector) containing all predictions (0/1) for the examples in X\n",
        "    '''\n",
        "\n",
        "    m = X.shape[1]\n",
        "    Y_prediction = np.zeros((1, m))\n",
        "    w = w.reshape(X.shape[0], 1)\n",
        "\n",
        "    # Compute vector \"A\" predicting the probabilities of a cat being present in the picture\n",
        "    #(≈ 1 line of code)\n",
        "    # A = ...\n",
        "    # YOUR CODE STARTS HERE\n",
        "    A = sigmoid(np.dot(w.T, X) + b)\n",
        "\n",
        "    # YOUR CODE ENDS HERE\n",
        "\n",
        "    for i in range(A.shape[1]):\n",
        "\n",
        "        # Convert probabilities A[0,i] to actual predictions p[0,i]\n",
        "        #(≈ 4 lines of code)\n",
        "        # if A[0, i] > ____ :\n",
        "        #     Y_prediction[0,i] =\n",
        "        # else:\n",
        "        #     Y_prediction[0,i] =\n",
        "        # YOUR CODE STARTS HERE\n",
        "        if A[0, i] > 0.5:\n",
        "            Y_prediction[0,i] = 1\n",
        "        else:\n",
        "            Y_prediction[0,i] = 0\n",
        "\n",
        "        # YOUR CODE ENDS HERE\n",
        "\n",
        "    return Y_prediction"
      ],
      "metadata": {
        "id": "r1RhUKOXnhBI"
      },
      "execution_count": 61,
      "outputs": []
    },
    {
      "cell_type": "code",
      "source": [
        "def model(X_train, Y_train, X_test, Y_test, num_iterations=2000, learning_rate=0.5, print_cost=False):\n",
        "    \"\"\"\n",
        "    Builds the logistic regression model by calling the function you've implemented previously\n",
        "\n",
        "    Arguments:\n",
        "    X_train -- training set represented by a numpy array of shape (num_px * num_px * 3, m_train)\n",
        "    Y_train -- training labels represented by a numpy array (vector) of shape (1, m_train)\n",
        "    X_test -- test set represented by a numpy array of shape (num_px * num_px * 3, m_test)\n",
        "    Y_test -- test labels represented by a numpy array (vector) of shape (1, m_test)\n",
        "    num_iterations -- hyperparameter representing the number of iterations to optimize the parameters\n",
        "    learning_rate -- hyperparameter representing the learning rate used in the update rule of optimize()\n",
        "    print_cost -- Set to True to print the cost every 100 iterations\n",
        "\n",
        "    Returns:\n",
        "    d -- dictionary containing information about the model.\n",
        "    \"\"\"\n",
        "    # (≈ 1 line of code)\n",
        "    # initialize parameters with zeros\n",
        "    # and use the \"shape\" function to get the first dimension of X_train\n",
        "    # w, b = ...\n",
        "\n",
        "    #(≈ 1 line of code)\n",
        "    # Gradient descent\n",
        "    # params, grads, costs = ...\n",
        "\n",
        "    # Retrieve parameters w and b from dictionary \"params\"\n",
        "    # w = ...\n",
        "    # b = ...\n",
        "\n",
        "    # Predict test/train set examples (≈ 2 lines of code)\n",
        "    # Y_prediction_test = ...\n",
        "    # Y_prediction_train = ...\n",
        "\n",
        "    # YOUR CODE STARTS HERE\n",
        "    w, b = initialize_with_zeros(X_train.shape[0])\n",
        "    params, grads, costs = optimize(w, b, X_train, Y_train, num_iterations, learning_rate, print_cost)\n",
        "    w = params[\"w\"]\n",
        "    b = params[\"b\"]\n",
        "    Y_prediction_test =  predict(w, b, X_test)\n",
        "    Y_prediction_train =  predict(w, b,  X_train)\n",
        "    # YOUR CODE ENDS HERE\n",
        "\n",
        "    # Print train/test Errors\n",
        "    if print_cost:\n",
        "        print(\"train accuracy: {} %\".format(100 - np.mean(np.abs(Y_prediction_train - Y_train)) * 100))\n",
        "        print(\"test accuracy: {} %\".format(100 - np.mean(np.abs(Y_prediction_test - Y_test)) * 100))\n",
        "\n",
        "\n",
        "    d = {\"costs\": costs,\n",
        "         \"Y_prediction_test\": Y_prediction_test,\n",
        "         \"Y_prediction_train\" : Y_prediction_train,\n",
        "         \"w\" : w,\n",
        "         \"b\" : b,\n",
        "         \"learning_rate\" : learning_rate,\n",
        "         \"num_iterations\": num_iterations}\n",
        "\n",
        "    return d"
      ],
      "metadata": {
        "id": "XTJrI3uGnkEJ"
      },
      "execution_count": 62,
      "outputs": []
    },
    {
      "cell_type": "code",
      "source": [
        "logistic_regression_model = model(x_train_norm, y_train, x_test_norm, y_test, num_iterations=2000, learning_rate=0.05, print_cost=True)"
      ],
      "metadata": {
        "colab": {
          "base_uri": "https://localhost:8080/"
        },
        "id": "U-u0c6c0oxth",
        "outputId": "ffdb9553-1dde-4262-8b64-73d1ba12c230"
      },
      "execution_count": 65,
      "outputs": [
        {
          "output_type": "stream",
          "name": "stdout",
          "text": [
            "Cost after iteration 0: 0.693147\n",
            "Cost after iteration 100: 0.002708\n",
            "Cost after iteration 200: 0.001365\n",
            "Cost after iteration 300: 0.000913\n",
            "Cost after iteration 400: 0.000686\n",
            "Cost after iteration 500: 0.000549\n",
            "Cost after iteration 600: 0.000458\n",
            "Cost after iteration 700: 0.000393\n",
            "Cost after iteration 800: 0.000344\n",
            "Cost after iteration 900: 0.000306\n",
            "Cost after iteration 1000: 0.000275\n",
            "Cost after iteration 1100: 0.000250\n",
            "Cost after iteration 1200: 0.000229\n",
            "Cost after iteration 1300: 0.000212\n",
            "Cost after iteration 1400: 0.000197\n",
            "Cost after iteration 1500: 0.000184\n",
            "Cost after iteration 1600: 0.000172\n",
            "Cost after iteration 1700: 0.000162\n",
            "Cost after iteration 1800: 0.000153\n",
            "Cost after iteration 1900: 0.000145\n",
            "train accuracy: 100.0 %\n",
            "test accuracy: 50.0 %\n"
          ]
        }
      ]
    },
    {
      "cell_type": "code",
      "source": [
        "x_val = list(range(1,901))\n",
        "\n",
        "with open(file_03, 'r') as file:\n",
        "    test_set_x_orig = file.read()\n",
        "\n",
        "test_set_x_orig = ast.literal_eval(test_set_x_orig)\n",
        "test_set_x_orig = np.array(x_test, dtype=np.float32).T\n",
        "\n",
        "#--------------------------------------------------------\n",
        "index = 5\n",
        "#--------------------------------------------------------\n",
        "print (\"y = \" + str(test_set_y[0,index]) + \", you predicted that it is a \" + str(logistic_regression_model['Y_prediction_test'][0,index])+\"\\n\" )\n",
        "\n",
        "plt.plot(x_val,test_set_x_orig[index])\n",
        "plt.xlabel(\"Number of Values\")\n",
        "plt.ylabel(\"Y Value\")\n",
        "plt.title(\"Y Value vs Number of Values\")\n",
        "plt.grid(True)\n",
        "plt.show()"
      ],
      "metadata": {
        "colab": {
          "base_uri": "https://localhost:8080/",
          "height": 507
        },
        "id": "kB-jW-1fph6R",
        "outputId": "0b71cd9c-dcc8-4730-86c5-45fcb8c0a72d"
      },
      "execution_count": 101,
      "outputs": [
        {
          "output_type": "stream",
          "name": "stdout",
          "text": [
            "y = 1.0, you predicted that it is a 1.0\n",
            "\n"
          ]
        },
        {
          "output_type": "display_data",
          "data": {
            "text/plain": [
              "<Figure size 640x480 with 1 Axes>"
            ],
            "image/png": "[encoded data removed]"
          },
          "metadata": {}
        }
      ]
    },
    {
      "cell_type": "code",
      "source": [
        "# Plot learning curve (with costs)\n",
        "costs = np.squeeze(logistic_regression_model['costs'])\n",
        "plt.plot(costs)\n",
        "plt.ylabel('cost')\n",
        "plt.xlabel('iterations (per hundreds)')\n",
        "plt.title(\"Learning rate =\" + str(logistic_regression_model[\"learning_rate\"]))\n",
        "plt.show()"
      ],
      "metadata": {
        "colab": {
          "base_uri": "https://localhost:8080/",
          "height": 472
        },
        "id": "8aKDViManpk-",
        "outputId": "64f6f009-0d95-4bd7-a25c-1bdfa5c2d647"
      },
      "execution_count": 97,
      "outputs": [
        {
          "output_type": "display_data",
          "data": {
            "text/plain": [
              "<Figure size 640x480 with 1 Axes>"
            ],
            "image/png": "[encoded data removed]"
          },
          "metadata": {}
        }
      ]
    },
    {
      "cell_type": "code",
      "source": [],
      "metadata": {
        "id": "eiiUFJwovMxu"
      },
      "execution_count": null,
      "outputs": []
    }
  ]
}